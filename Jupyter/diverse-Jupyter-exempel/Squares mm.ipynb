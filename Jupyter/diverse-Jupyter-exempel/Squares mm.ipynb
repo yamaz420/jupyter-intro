{
 "cells": [
  {
   "cell_type": "code",
   "execution_count": 1,
   "metadata": {},
   "outputs": [],
   "source": [
    "import math\n",
    "import tkinter"
   ]
  },
  {
   "cell_type": "code",
   "execution_count": 2,
   "metadata": {},
   "outputs": [],
   "source": [
    "def draw_axes(page):\n",
    "    page.update()\n",
    "    x_origin = page.winfo_width() / 2\n",
    "    y_origin = page.winfo_height() / 2\n",
    "    page.configure(scrollregion=(-x_origin, -y_origin, x_origin, y_origin))\n",
    "    page.create_line(-x_origin, 0, x_origin, 0, fill=\"black\")\n",
    "    page.create_line(0, y_origin, 0, -y_origin, fill=\"black\")\n",
    "    print(locals())"
   ]
  },
  {
   "cell_type": "code",
   "execution_count": 3,
   "metadata": {},
   "outputs": [],
   "source": [
    "def plot(page, x, y):\n",
    "    page.create_line(x, -y, x + 1, -y + 1, fill=\"red\")"
   ]
  },
  {
   "cell_type": "code",
   "execution_count": 4,
   "metadata": {},
   "outputs": [],
   "source": [
    "def parabola(page, size):\n",
    "    # This function draws a with a minimum at x=0, y=0\n",
    "    for x in range(size):\n",
    "        y = x * x / size\n",
    "        plot(page, x, y)\n",
    "        plot(page, -x, y)"
   ]
  },
  {
   "cell_type": "code",
   "execution_count": 5,
   "metadata": {},
   "outputs": [],
   "source": [
    "def square_centered(page, diagonal):\n",
    "    # Draws a tilted square centered at x=0,y=0, diagonal is set\n",
    "    for x in range(diagonal):\n",
    "        y = diagonal-x\n",
    "        plot(page, x, y) # Ursprunglig linje\n",
    "        #plot(page, x, -y) # Spegling i x axeln\n",
    "        #plot(page, -x , y) # Spegling i y axeln\n",
    "        #plot(page, -x , -y) # Spegling både i x och y axeln"
   ]
  },
  {
   "cell_type": "code",
   "execution_count": 6,
   "metadata": {},
   "outputs": [],
   "source": [
    "def circle_centered(page, radius):\n",
    "    # We want to draw a circle by mirroring a quarter of one\n",
    "    for x in range(radius):\n",
    "        y = math.sqrt(radius**2 -x**2)\n",
    "        plot(page, x, y)"
   ]
  },
  {
   "cell_type": "code",
   "execution_count": 7,
   "metadata": {},
   "outputs": [
    {
     "name": "stdout",
     "output_type": "stream",
     "text": [
      "{'page': <tkinter.Canvas object .!canvas>, 'x_origin': 322.0, 'y_origin': 242.0}\n"
     ]
    }
   ],
   "source": [
    "mainWindow = tkinter.Tk()\n",
    "\n",
    "mainWindow.title(\"Square Experiments\")\n",
    "mainWindow.geometry(\"640x480\")\n",
    "\n",
    "canvas = tkinter.Canvas(mainWindow, width=640, height=480)\n",
    "canvas.grid(row=0, column=0)\n",
    "\n",
    "draw_axes(canvas)\n",
    "\n",
    "#parabola(canvas, 100)\n",
    "\n",
    "#square_centered(canvas, 80)\n",
    "#square_centered(canvas, 160)\n",
    "square_centered(canvas, 100)\n",
    "circle_centered(canvas, 100)\n",
    "\n",
    "\n",
    "mainWindow.mainloop()"
   ]
  },
  {
   "cell_type": "code",
   "execution_count": null,
   "metadata": {},
   "outputs": [],
   "source": []
  }
 ],
 "metadata": {
  "kernelspec": {
   "display_name": "Python 3",
   "language": "python",
   "name": "python3"
  },
  "language_info": {
   "codemirror_mode": {
    "name": "ipython",
    "version": 3
   },
   "file_extension": ".py",
   "mimetype": "text/x-python",
   "name": "python",
   "nbconvert_exporter": "python",
   "pygments_lexer": "ipython3",
   "version": "3.7.7"
  }
 },
 "nbformat": 4,
 "nbformat_minor": 4
}
