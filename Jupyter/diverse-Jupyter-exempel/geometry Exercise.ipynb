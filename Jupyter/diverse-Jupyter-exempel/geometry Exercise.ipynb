{
 "cells": [
  {
   "cell_type": "code",
   "execution_count": 3,
   "metadata": {},
   "outputs": [],
   "source": [
    "import math\n",
    "import tkinter"
   ]
  },
  {
   "cell_type": "code",
   "execution_count": 4,
   "metadata": {},
   "outputs": [],
   "source": [
    "def draw_axes(page):\n",
    "    page.update()\n",
    "    x_origin = page.winfo_width() / 2\n",
    "    y_origin = page.winfo_height() / 2\n",
    "    page.configure(scrollregion=(-x_origin, -y_origin, x_origin, y_origin))\n",
    "    page.create_line(-x_origin, 0, x_origin, 0, fill=\"black\")\n",
    "    page.create_line(0, y_origin, 0, -y_origin, fill=\"black\")\n",
    "    print(locals())"
   ]
  },
  {
   "cell_type": "code",
   "execution_count": 5,
   "metadata": {},
   "outputs": [],
   "source": [
    "def plot(page, x, y):\n",
    "    page.create_line(x, -y, x + 1, -y + 1, fill=\"red\")"
   ]
  },
  {
   "cell_type": "code",
   "execution_count": 6,
   "metadata": {},
   "outputs": [],
   "source": [
    "def parabola(page, size):\n",
    "    for x in range(size):\n",
    "        y = x * x / size\n",
    "        plot(page, x, y)\n",
    "        plot(page, -x, y)"
   ]
  },
  {
   "cell_type": "code",
   "execution_count": 14,
   "metadata": {},
   "outputs": [],
   "source": [
    "def square_centered(page, radius):\n",
    "    for x in range(radius):\n",
    "        y = radius-x\n",
    "        plot(page, x, y)\n",
    "        #plot(page, x,-y)\n",
    "        plot(page,-x, y)\n",
    "        #plot(page,-x,-y)"
   ]
  },
  {
   "cell_type": "code",
   "execution_count": 10,
   "metadata": {},
   "outputs": [],
   "source": [
    "def circle_centered(page, radius):\n",
    "    for x in range(radius):\n",
    "        y = math.sqrt(radius**2 -x**2)\n",
    "        plot(page, x, y)\n",
    "        #plot(page, x, -y)\n",
    "        #plot(page, -x, y)\n",
    "        #plot(page, -x, -y)"
   ]
  },
  {
   "cell_type": "code",
   "execution_count": null,
   "metadata": {},
   "outputs": [],
   "source": []
  },
  {
   "cell_type": "code",
   "execution_count": 15,
   "metadata": {},
   "outputs": [
    {
     "name": "stdout",
     "output_type": "stream",
     "text": [
      "{'page': <tkinter.Canvas object .!canvas>, 'x_origin': 322.0, 'y_origin': 242.0}\n"
     ]
    }
   ],
   "source": [
    "mainWindow = tkinter.Tk()\n",
    "mainWindow.title(\"Experiment\")\n",
    "mainWindow.geometry(\"640x480\")\n",
    "canvas = tkinter.Canvas(mainWindow, width=640, height=480)\n",
    "canvas.grid(row=0, column=0)\n",
    "draw_axes(canvas)\n",
    "square_centered(canvas, 100)\n",
    "circle_centered(canvas, 100)\n",
    "mainWindow.mainloop()"
   ]
  },
  {
   "cell_type": "code",
   "execution_count": 15,
   "metadata": {},
   "outputs": [
    {
     "data": {
      "text/plain": [
       "<tkinter.Tk object .>"
      ]
     },
     "execution_count": 15,
     "metadata": {},
     "output_type": "execute_result"
    }
   ],
   "source": []
  },
  {
   "cell_type": "code",
   "execution_count": 18,
   "metadata": {},
   "outputs": [],
   "source": []
  },
  {
   "cell_type": "code",
   "execution_count": null,
   "metadata": {},
   "outputs": [],
   "source": []
  },
  {
   "cell_type": "code",
   "execution_count": 9,
   "metadata": {},
   "outputs": [],
   "source": []
  },
  {
   "cell_type": "code",
   "execution_count": 11,
   "metadata": {},
   "outputs": [],
   "source": []
  },
  {
   "cell_type": "code",
   "execution_count": null,
   "metadata": {},
   "outputs": [],
   "source": []
  }
 ],
 "metadata": {
  "kernelspec": {
   "display_name": "Python 3",
   "language": "python",
   "name": "python3"
  },
  "language_info": {
   "codemirror_mode": {
    "name": "ipython",
    "version": 3
   },
   "file_extension": ".py",
   "mimetype": "text/x-python",
   "name": "python",
   "nbconvert_exporter": "python",
   "pygments_lexer": "ipython3",
   "version": "3.7.7"
  }
 },
 "nbformat": 4,
 "nbformat_minor": 4
}
